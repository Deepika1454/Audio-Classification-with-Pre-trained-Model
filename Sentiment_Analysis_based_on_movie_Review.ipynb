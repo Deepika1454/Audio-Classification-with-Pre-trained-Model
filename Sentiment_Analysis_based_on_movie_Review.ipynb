{
  "nbformat": 4,
  "nbformat_minor": 0,
  "metadata": {
    "colab": {
      "provenance": [],
      "authorship_tag": "ABX9TyPCJZaYpM2EKlA3ZJFkN6Da",
      "include_colab_link": true
    },
    "kernelspec": {
      "name": "python3",
      "display_name": "Python 3"
    },
    "language_info": {
      "name": "python"
    }
  },
  "cells": [
    {
      "cell_type": "markdown",
      "metadata": {
        "id": "view-in-github",
        "colab_type": "text"
      },
      "source": [
        "<a href=\"https://colab.research.google.com/github/Deepika1454/Audio-Classification-with-Pre-trained-Model/blob/main/Sentiment_Analysis_based_on_movie_Review.ipynb\" target=\"_parent\"><img src=\"https://colab.research.google.com/assets/colab-badge.svg\" alt=\"Open In Colab\"/></a>"
      ]
    },
    {
      "cell_type": "code",
      "execution_count": 1,
      "metadata": {
        "colab": {
          "base_uri": "https://localhost:8080/"
        },
        "id": "MuRL_o2Qf0yY",
        "outputId": "b9c31196-27ea-4c89-c6ee-e14377fa8504"
      },
      "outputs": [
        {
          "output_type": "stream",
          "name": "stdout",
          "text": [
            "Requirement already satisfied: textblob in /usr/local/lib/python3.11/dist-packages (0.17.1)\n",
            "Requirement already satisfied: nltk>=3.1 in /usr/local/lib/python3.11/dist-packages (from textblob) (3.9.1)\n",
            "Requirement already satisfied: click in /usr/local/lib/python3.11/dist-packages (from nltk>=3.1->textblob) (8.1.8)\n",
            "Requirement already satisfied: joblib in /usr/local/lib/python3.11/dist-packages (from nltk>=3.1->textblob) (1.4.2)\n",
            "Requirement already satisfied: regex>=2021.8.3 in /usr/local/lib/python3.11/dist-packages (from nltk>=3.1->textblob) (2024.11.6)\n",
            "Requirement already satisfied: tqdm in /usr/local/lib/python3.11/dist-packages (from nltk>=3.1->textblob) (4.67.1)\n",
            "Requirement already satisfied: nltk in /usr/local/lib/python3.11/dist-packages (3.9.1)\n",
            "Requirement already satisfied: click in /usr/local/lib/python3.11/dist-packages (from nltk) (8.1.8)\n",
            "Requirement already satisfied: joblib in /usr/local/lib/python3.11/dist-packages (from nltk) (1.4.2)\n",
            "Requirement already satisfied: regex>=2021.8.3 in /usr/local/lib/python3.11/dist-packages (from nltk) (2024.11.6)\n",
            "Requirement already satisfied: tqdm in /usr/local/lib/python3.11/dist-packages (from nltk) (4.67.1)\n"
          ]
        }
      ],
      "source": [
        "!pip install textblob\n",
        "!pip install nltk\n"
      ]
    },
    {
      "cell_type": "code",
      "source": [
        "from textblob import TextBlob\n",
        "import nltk\n",
        "nltk.download('movie_reviews')\n"
      ],
      "metadata": {
        "colab": {
          "base_uri": "https://localhost:8080/"
        },
        "id": "S6PUrO3mhV1c",
        "outputId": "7f9e52a7-183f-4fe7-b49c-02a9c091a241"
      },
      "execution_count": 2,
      "outputs": [
        {
          "output_type": "stream",
          "name": "stderr",
          "text": [
            "[nltk_data] Downloading package movie_reviews to /root/nltk_data...\n",
            "[nltk_data]   Unzipping corpora/movie_reviews.zip.\n"
          ]
        },
        {
          "output_type": "execute_result",
          "data": {
            "text/plain": [
              "True"
            ]
          },
          "metadata": {},
          "execution_count": 2
        }
      ]
    },
    {
      "cell_type": "markdown",
      "source": [
        "# Get all movie reviews"
      ],
      "metadata": {
        "id": "95sxj-Y1iTH0"
      }
    },
    {
      "cell_type": "markdown",
      "source": [
        "# Shuffle the dataset for randomness"
      ],
      "metadata": {
        "id": "ftpO1jJaiVM8"
      }
    },
    {
      "cell_type": "markdown",
      "source": [
        "# Display a sample review"
      ],
      "metadata": {
        "id": "U8UAhXDhiW4U"
      }
    },
    {
      "cell_type": "code",
      "source": [
        "from nltk.corpus import movie_reviews\n",
        "import random\n",
        "reviews = [(movie_reviews.words(fileid), category)\n",
        "           for category in movie_reviews.categories()\n",
        "           for fileid in movie_reviews.fileids(category)]\n",
        "\n",
        "random.shuffle(reviews)\n",
        "\n",
        "print(reviews[0])\n"
      ],
      "metadata": {
        "colab": {
          "base_uri": "https://localhost:8080/"
        },
        "id": "k2qj67C1h3xe",
        "outputId": "dcba4a26-9102-4f2b-8356-db6f0d20ce9d"
      },
      "execution_count": 3,
      "outputs": [
        {
          "output_type": "stream",
          "name": "stdout",
          "text": [
            "(['note', ':', 'some', 'may', 'consider', 'portions', ...], 'neg')\n"
          ]
        }
      ]
    },
    {
      "cell_type": "markdown",
      "source": [
        "Define a Function for Sentiment Analysis"
      ],
      "metadata": {
        "id": "R22degDNiiKz"
      }
    },
    {
      "cell_type": "code",
      "source": [
        "\n",
        "def get_sentiment(text):\n",
        "\n",
        "    blob = TextBlob(' '.join(text))\n",
        "\n",
        "    return blob.sentiment.polarity\n",
        "\n",
        "\n",
        "review_text = reviews[0][0]\n",
        "print(\"Sentiment Score: \", get_sentiment(review_text))\n"
      ],
      "metadata": {
        "colab": {
          "base_uri": "https://localhost:8080/"
        },
        "id": "5MqILJ9Yimfk",
        "outputId": "1035ffd7-78cb-4022-9e8a-7751aa400b86"
      },
      "execution_count": 4,
      "outputs": [
        {
          "output_type": "stream",
          "name": "stdout",
          "text": [
            "Sentiment Score:  0.07877382068103718\n"
          ]
        }
      ]
    },
    {
      "cell_type": "markdown",
      "source": [
        "Evaluate Sentiment on Multiple Reviews"
      ],
      "metadata": {
        "id": "tGHp0oNIix38"
      }
    },
    {
      "cell_type": "code",
      "source": [
        "\n",
        "sentiment_results = []\n",
        "for review in reviews[:10]:\n",
        "    text, category = review\n",
        "    sentiment_score = get_sentiment(text)\n",
        "    sentiment_category = 'Positive' if sentiment_score > 0 else 'Negative'\n",
        "    sentiment_results.append((sentiment_category, sentiment_score, ' '.join(text)))\n",
        "for result in sentiment_results:\n",
        "    print(f\"Review Sentiment: {result[0]}, Sentiment Score: {result[1]}\")\n"
      ],
      "metadata": {
        "colab": {
          "base_uri": "https://localhost:8080/"
        },
        "id": "8-7ImyDTizTM",
        "outputId": "6bc504d2-a0bb-4c85-c3e0-12edf53a5ece"
      },
      "execution_count": 5,
      "outputs": [
        {
          "output_type": "stream",
          "name": "stdout",
          "text": [
            "Review Sentiment: Positive, Sentiment Score: 0.07877382068103718\n",
            "Review Sentiment: Positive, Sentiment Score: 0.1035702479338843\n",
            "Review Sentiment: Positive, Sentiment Score: 0.11862541672886502\n",
            "Review Sentiment: Positive, Sentiment Score: 0.04002992891881781\n",
            "Review Sentiment: Negative, Sentiment Score: -0.01981707317073171\n",
            "Review Sentiment: Positive, Sentiment Score: 0.16432323232323232\n",
            "Review Sentiment: Positive, Sentiment Score: 0.12591647770219203\n",
            "Review Sentiment: Positive, Sentiment Score: 0.16565040650406504\n",
            "Review Sentiment: Positive, Sentiment Score: 0.13434210526315785\n",
            "Review Sentiment: Positive, Sentiment Score: 0.3636675020885547\n"
          ]
        }
      ]
    },
    {
      "cell_type": "markdown",
      "source": [
        "Conclusion and Insights"
      ],
      "metadata": {
        "id": "UZx56bL_jCHs"
      }
    },
    {
      "cell_type": "code",
      "source": [
        "import matplotlib.pyplot as plt\n",
        "\n",
        "\n",
        "positive = len([result for result in sentiment_results if result[0] == 'Positive'])\n",
        "negative = len([result for result in sentiment_results if result[0] == 'Negative'])\n",
        "\n",
        "plt.bar(['Positive', 'Negative'], [positive, negative], color=['green', 'red'])\n",
        "plt.title('Sentiment Analysis of Movie Reviews')\n",
        "plt.ylabel('Count')\n",
        "plt.show()\n"
      ],
      "metadata": {
        "colab": {
          "base_uri": "https://localhost:8080/",
          "height": 452
        },
        "id": "XBewE-PSi7H8",
        "outputId": "5608dde6-0189-4d24-df8c-747ae1f8b058"
      },
      "execution_count": 6,
      "outputs": [
        {
          "output_type": "display_data",
          "data": {
            "text/plain": [
              "<Figure size 640x480 with 1 Axes>"
            ],
            "image/png": "[encoded data removed]"
          },
          "metadata": {}
        }
      ]
    },
    {
      "cell_type": "code",
      "source": [
        "\n",
        "def test_sentiment(input_review):\n",
        "    review_words = input_review.split()\n",
        "    sentiment_score = get_sentiment(review_words)\n",
        "    sentiment_category = 'Positive' if sentiment_score > 0 else 'Negative'\n",
        "    return sentiment_category, sentiment_score\n",
        "\n",
        "\n",
        "custom_review = input(\"Enter a movie review: \")\n",
        "sentiment, score = test_sentiment(custom_review)\n",
        "print(f\"Sentiment: {sentiment}, Score: {score}\")\n"
      ],
      "metadata": {
        "colab": {
          "base_uri": "https://localhost:8080/"
        },
        "id": "szNtqvuMjMJt",
        "outputId": "e379e753-14bc-4f14-f6e4-084575847f69"
      },
      "execution_count": 7,
      "outputs": [
        {
          "output_type": "stream",
          "name": "stdout",
          "text": [
            "Enter a movie review: The movie was okay, neither great nor bad. It was an average experience\n",
            "Sentiment: Positive, Score: 0.11250000000000004\n"
          ]
        }
      ]
    }
  ]
}